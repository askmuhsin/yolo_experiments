{
 "cells": [
  {
   "cell_type": "code",
   "execution_count": 1,
   "metadata": {
    "ExecuteTime": {
     "end_time": "2021-07-31T13:09:55.639920Z",
     "start_time": "2021-07-31T13:09:52.896100Z"
    }
   },
   "outputs": [
    {
     "name": "stdout",
     "output_type": "stream",
     "text": [
      "--2021-07-31 21:09:53--  https://pysource.com/wp-content/uploads/2019/06/yolo_object_detection.zip\n",
      "Resolving pysource.com (pysource.com)... 172.67.180.33, 104.21.67.193, 2606:4700:3031::6815:43c1, ...\n",
      "Connecting to pysource.com (pysource.com)|172.67.180.33|:443... connected.\n",
      "HTTP request sent, awaiting response... 200 OK\n",
      "Length: 2890443 (2.8M) [application/zip]\n",
      "Saving to: ‘yolo_object_detection.zip’\n",
      "\n",
      "yolo_object_detecti 100%[===================>]   2.76M  2.19MB/s    in 1.3s    \n",
      "\n",
      "2021-07-31 21:09:55 (2.19 MB/s) - ‘yolo_object_detection.zip’ saved [2890443/2890443]\n",
      "\n"
     ]
    }
   ],
   "source": [
    "! wget https://pysource.com/wp-content/uploads/2019/06/yolo_object_detection.zip"
   ]
  },
  {
   "cell_type": "code",
   "execution_count": 2,
   "metadata": {
    "ExecuteTime": {
     "end_time": "2021-07-31T13:10:52.380535Z",
     "start_time": "2021-07-31T13:10:04.041182Z"
    }
   },
   "outputs": [
    {
     "name": "stdout",
     "output_type": "stream",
     "text": [
      "--2021-07-31 21:10:04--  https://pjreddie.com/media/files/yolov3.weights\n",
      "Resolving pjreddie.com (pjreddie.com)... 128.208.4.108\n",
      "Connecting to pjreddie.com (pjreddie.com)|128.208.4.108|:443... connected.\n",
      "HTTP request sent, awaiting response... 200 OK\n",
      "Length: 248007048 (237M) [application/octet-stream]\n",
      "Saving to: ‘yolov3.weights’\n",
      "\n",
      "yolov3.weights      100%[===================>] 236.52M  4.78MB/s    in 39s     \n",
      "\n",
      "2021-07-31 21:10:52 (6.10 MB/s) - ‘yolov3.weights’ saved [248007048/248007048]\n",
      "\n"
     ]
    }
   ],
   "source": [
    "! wget https://pjreddie.com/media/files/yolov3.weights"
   ]
  },
  {
   "cell_type": "code",
   "execution_count": null,
   "metadata": {},
   "outputs": [],
   "source": []
  }
 ],
 "metadata": {
  "kernelspec": {
   "display_name": "Python3.6",
   "language": "python",
   "name": "python3.6"
  },
  "language_info": {
   "codemirror_mode": {
    "name": "ipython",
    "version": 3
   },
   "file_extension": ".py",
   "mimetype": "text/x-python",
   "name": "python",
   "nbconvert_exporter": "python",
   "pygments_lexer": "ipython3",
   "version": "3.6.12"
  }
 },
 "nbformat": 4,
 "nbformat_minor": 2
}
